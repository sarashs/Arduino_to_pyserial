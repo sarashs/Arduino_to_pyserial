{
 "cells": [
  {
   "cell_type": "markdown",
   "metadata": {},
   "source": [
    "# Connecting Arduino to serial port via Pyserial"
   ]
  },
  {
   "cell_type": "code",
   "execution_count": null,
   "metadata": {},
   "outputs": [],
   "source": [
    "#Import the necessary libraries\n",
    "from time import sleep\n",
    "import serial\n",
    "import re\n",
    "import numpy as np\n",
    "import matplotlib\n",
    "matplotlib.use('TkAgg')\n",
    "import matplotlib.pyplot as plt\n",
    "\n",
    "%matplotlib inline\n",
    "#%load_ext autoreload\n",
    "#%autoreload 2\n",
    "%matplotlib notebook"
   ]
  },
  {
   "cell_type": "markdown",
   "metadata": {},
   "source": [
    "## Example 1\n",
    "Print something to the arduino and get it to send it back one bit at a time"
   ]
  },
  {
   "cell_type": "code",
   "execution_count": null,
   "metadata": {},
   "outputs": [],
   "source": [
    "ser = serial.Serial('COM5', 9600) # Establish the connection on a specific port"
   ]
  },
  {
   "cell_type": "code",
   "execution_count": null,
   "metadata": {},
   "outputs": [],
   "source": [
    "print(ser.name)         # check which port was really used"
   ]
  },
  {
   "cell_type": "code",
   "execution_count": null,
   "metadata": {},
   "outputs": [],
   "source": [
    "ser.write(b'hello') # Convert the decimal number to ASCII then send it to the Arduino\n",
    "sleep(.1) #  This delay is necessary for the input to get updated\n",
    "while ser.in_waiting:\n",
    "    print (ser.readline()) # Read the newest output from the Arduino\n",
    "    sleep(.1) # Delay for one tenth of a second"
   ]
  },
  {
   "cell_type": "code",
   "execution_count": null,
   "metadata": {},
   "outputs": [],
   "source": [
    "ser.close() #close the serial communication"
   ]
  },
  {
   "cell_type": "markdown",
   "metadata": {},
   "source": [
    "## Example 2\n",
    "Print a string to the arduino and get the whole string back"
   ]
  },
  {
   "cell_type": "code",
   "execution_count": null,
   "metadata": {},
   "outputs": [],
   "source": [
    "ser = serial.Serial('COM5', 9600)\n",
    "print(ser.name)\n",
    "initial = \"\"\n",
    "sleep(1)\n",
    "while (\"Ready\" not in str(initial)):\n",
    "    initial = ser.readline()\n",
    "print(initial)"
   ]
  },
  {
   "cell_type": "code",
   "execution_count": null,
   "metadata": {},
   "outputs": [],
   "source": [
    "\n",
    "ser.write(b'hello') # Convert the decimal number to ASCII then send it to the Arduino\n",
    "sleep(2) #  This delay is necessary for the input to get updated, I could not figure how long is exactly necessary\n",
    "while ser.in_waiting:\n",
    "    print (ser.readline()) # Read the newest output from the Arduino\n",
    "    sleep(.1) # Delay for one tenth of a second\n"
   ]
  },
  {
   "cell_type": "code",
   "execution_count": null,
   "metadata": {},
   "outputs": [],
   "source": [
    "ser.close()"
   ]
  },
  {
   "cell_type": "markdown",
   "metadata": {},
   "source": [
    "## Example 3\n",
    "\n",
    "a) Turning an LED on and off\n",
    "b) The above but employ \"serial event\" in the code\n",
    "\n",
    "Note that serial event is an interupt and using this allows us to free up our main loop and not check the serial buffer at every instance. You will soon see why it is useful."
   ]
  },
  {
   "cell_type": "code",
   "execution_count": null,
   "metadata": {},
   "outputs": [],
   "source": [
    "ser = serial.Serial('COM5', 9600)\n",
    "print(ser.name)\n",
    "initial = \"\"\n",
    "sleep(1)\n",
    "while (\"Ready\" not in str(initial)):\n",
    "    initial = ser.readline()\n",
    "print(initial)"
   ]
  },
  {
   "cell_type": "code",
   "execution_count": null,
   "metadata": {},
   "outputs": [],
   "source": [
    "ser.write(b'OFF') \n",
    "sleep(2) #  This delay is necessary for the input to get updated, I could not figure how long is exactly necessary\n",
    "while ser.in_waiting:\n",
    "    print (ser.readline()) # Read the newest output from the Arduino\n",
    "    sleep(.1) # Delay for one tenth of a second\n"
   ]
  },
  {
   "cell_type": "code",
   "execution_count": null,
   "metadata": {},
   "outputs": [],
   "source": [
    "ser.write(b'ON') # Convert the decimal number to ASCII then send it to the Arduino\n"
   ]
  },
  {
   "cell_type": "code",
   "execution_count": null,
   "metadata": {},
   "outputs": [],
   "source": [
    "ser.close()"
   ]
  },
  {
   "cell_type": "markdown",
   "metadata": {},
   "source": [
    "## Example 4\n",
    "\n",
    "Let's make things a bit more advanced. We will now send ON/OFF commands but when we sent the ON command we also send an intensity between 0-255. This will be similar to Arduino's own dimmer example.\n",
    "\n",
    "The commands will be:\n",
    "\n",
    "- ON #A_number\n",
    "\n",
    "- OFF"
   ]
  },
  {
   "cell_type": "code",
   "execution_count": null,
   "metadata": {},
   "outputs": [],
   "source": [
    "ser = serial.Serial('COM5', 9600)\n",
    "print(ser.name)\n",
    "initial = \"\"\n",
    "sleep(1)\n",
    "while (\"Ready\" not in str(initial)):\n",
    "    initial = ser.readline()\n",
    "print(initial)"
   ]
  },
  {
   "cell_type": "code",
   "execution_count": null,
   "metadata": {},
   "outputs": [],
   "source": [
    "ser.write(b'ON 100') \n",
    "sleep(2) #  This delay is necessary for the input to get updated, I could not figure how long is exactly necessary\n",
    "while ser.in_waiting:\n",
    "    print (ser.readline()) # Read the newest output from the Arduino\n",
    "    sleep(.1) # Delay for one tenth of a second\n",
    "ser.write(b'ON 250') \n",
    "sleep(2) #  This delay is necessary for the input to get updated, I could not figure how long is exactly necessary\n",
    "while ser.in_waiting:\n",
    "    print (ser.readline()) # Read the newest output from the Arduino\n",
    "    sleep(.1) # Delay for one tenth of a second\n",
    "ser.write(b'ON 50') \n",
    "sleep(2) #  This delay is necessary for the input to get updated, I could not figure how long is exactly necessary\n",
    "while ser.in_waiting:\n",
    "    print (ser.readline()) # Read the newest output from the Arduino\n",
    "    sleep(.1) # Delay for one tenth of a second\n",
    "ser.write(b'OFF')"
   ]
  },
  {
   "cell_type": "code",
   "execution_count": null,
   "metadata": {},
   "outputs": [],
   "source": [
    "ser.close()"
   ]
  },
  {
   "cell_type": "markdown",
   "metadata": {},
   "source": [
    "## Example 5\n",
    "\n",
    "Let's now hook up a system to read one of the analog pins (perhaps an analog sensor) every seconds and plot the realtime data here."
   ]
  },
  {
   "cell_type": "code",
   "execution_count": null,
   "metadata": {},
   "outputs": [],
   "source": [
    "ser = serial.Serial('COM5', 9600)\n",
    "ser.timeout = 10 #specify timeout when using readline()\n",
    "#ser.open()\n",
    "if ser.is_open==True:\n",
    "\tprint(\"\\nAll right, serial port now open. Configuration:\\n\")\n",
    "\tprint(ser, \"\\n\")\n",
    "sleep(1)"
   ]
  },
  {
   "cell_type": "code",
   "execution_count": null,
   "metadata": {},
   "outputs": [],
   "source": [
    "fig = plt.figure(figsize=(6,6))\n",
    "#ax = fig.add_subplot(111)\n",
    "plt.ion()\n",
    "count = 0\n",
    "xs =[]\n",
    "ys = []\n",
    "\n",
    "fig.show()\n",
    "plt.plot(ys,'-or')\n",
    "plt.yticks(np.arange(-200, 1100, 50.0))\n",
    "plt.tight_layout()\n",
    "fig.canvas.draw()\n",
    "#iterate - plot, erase\n",
    "while ser.in_waiting and count < 100:\n",
    "    #print i\n",
    "    count += 1\n",
    "    xs.append(count)\n",
    "    ys.append(int(re.findall('\\d+', str(ser.readline()))[0]))\n",
    "    plt.ylim(bottom=0)\n",
    "    \n",
    "    plt.plot(xs, ys,'-or')\n",
    "    plt.tight_layout()\n",
    "    plt.yticks(np.arange(-200, 1100, 50.0))\n",
    "    fig.canvas.draw()   # draw\n",
    "    sleep(1)    #sleep\n",
    "#plt.plot(xs, ys,'-or')\n",
    "#fig.show()"
   ]
  },
  {
   "cell_type": "code",
   "execution_count": null,
   "metadata": {},
   "outputs": [],
   "source": [
    "ser.close()"
   ]
  },
  {
   "cell_type": "markdown",
   "metadata": {},
   "source": [
    "## Example 6\n",
    "\n",
    "We can put everything together and make a control and sensing station that can be managed via our notebook\n",
    "\n",
    "Here's our list of 4 commands:\n",
    "\n",
    "- LED ON/OFF : turn led on and off\n",
    "- READ A1/A2 : read analogpin A1/A2 and send the results\n",
    "- SERVO 1/2 #deg : turn servos 1 or 2 to the desired angle\n",
    "- PWM 3/4 #duty : Put a PWM on pins 3 or 4\n"
   ]
  },
  {
   "cell_type": "code",
   "execution_count": null,
   "metadata": {},
   "outputs": [],
   "source": [
    "ser = serial.Serial('COM5', 9600)\n",
    "print(ser.name)\n",
    "initial = \"\"\n",
    "sleep(1)\n",
    "while (\"Ready\" not in str(initial)):\n",
    "    initial = ser.readline()\n",
    "print(initial)"
   ]
  },
  {
   "cell_type": "code",
   "execution_count": null,
   "metadata": {},
   "outputs": [],
   "source": [
    "ser.write(b'LED ON') \n",
    "print(ser.readline())"
   ]
  },
  {
   "cell_type": "code",
   "execution_count": null,
   "metadata": {},
   "outputs": [],
   "source": [
    "ser.write(b'READ A2') \n",
    "print(ser.readline())\n",
    "print(ser.readline())"
   ]
  },
  {
   "cell_type": "code",
   "execution_count": null,
   "metadata": {},
   "outputs": [],
   "source": [
    "ser.write(b'READ A1') \n",
    "print(ser.readline())\n",
    "print(ser.readline())"
   ]
  },
  {
   "cell_type": "code",
   "execution_count": null,
   "metadata": {},
   "outputs": [],
   "source": [
    "ser.write(b'PWM 3 100') \n",
    "print(ser.readline())"
   ]
  },
  {
   "cell_type": "code",
   "execution_count": null,
   "metadata": {},
   "outputs": [],
   "source": []
  }
 ],
 "metadata": {
  "kernelspec": {
   "display_name": "Python 3",
   "language": "python",
   "name": "python3"
  },
  "language_info": {
   "codemirror_mode": {
    "name": "ipython",
    "version": 3
   },
   "file_extension": ".py",
   "mimetype": "text/x-python",
   "name": "python",
   "nbconvert_exporter": "python",
   "pygments_lexer": "ipython3",
   "version": "3.7.3"
  }
 },
 "nbformat": 4,
 "nbformat_minor": 2
}
